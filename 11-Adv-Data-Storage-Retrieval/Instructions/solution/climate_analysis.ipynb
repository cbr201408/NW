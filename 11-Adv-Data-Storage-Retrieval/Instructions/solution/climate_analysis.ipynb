{
 "cells": [
  {
   "cell_type": "code",
   "execution_count": 1,
   "metadata": {
    "collapsed": true
   },
   "outputs": [],
   "source": [
    "# Dependencies\n",
    "import pandas as pd\n",
    "import matplotlib.pyplot as plt\n",
    "from sqlalchemy import *\n",
    "from datetime import datetime\n",
    "\n",
    "plt.style.use('ggplot')"
   ]
  },
  {
   "cell_type": "code",
   "execution_count": 2,
   "metadata": {
    "collapsed": true
   },
   "outputs": [],
   "source": [
    "engine = create_engine('sqlite:///hawaii.sqlite')"
   ]
  },
  {
   "cell_type": "code",
   "execution_count": 3,
   "metadata": {
    "collapsed": true
   },
   "outputs": [],
   "source": [
    "metadata = MetaData()\n",
    "connection = engine.connect()"
   ]
  },
  {
   "cell_type": "code",
   "execution_count": 4,
   "metadata": {
    "collapsed": true
   },
   "outputs": [],
   "source": [
    "measurement = Table('measurement', metadata, autoload=True, autoload_with=engine)\n",
    "station = Table('station', metadata, autoload=True, autoload_with=engine)"
   ]
  },
  {
   "cell_type": "code",
   "execution_count": 5,
   "metadata": {},
   "outputs": [
    {
     "name": "stdout",
     "output_type": "stream",
     "text": [
      "SELECT measurement.date, sum(measurement.prcp) AS precipitation \n",
      "FROM measurement \n",
      "WHERE measurement.date > :date_1 GROUP BY measurement.date\n"
     ]
    }
   ],
   "source": [
    "prcp_sum = func.sum(measurement.columns.prcp).label('precipitation')\n",
    "stmt = select([measurement.columns.date, prcp_sum])\n",
    "stmt = stmt.group_by(measurement.columns.date)\n",
    "stmt = stmt.where(measurement.columns.date > '2016-08-31')\n",
    "print(stmt)"
   ]
  },
  {
   "cell_type": "code",
   "execution_count": 6,
   "metadata": {
    "collapsed": true
   },
   "outputs": [],
   "source": [
    "results = connection.execute(stmt).fetchall()"
   ]
  },
  {
   "cell_type": "code",
   "execution_count": 7,
   "metadata": {
    "collapsed": true
   },
   "outputs": [],
   "source": [
    "df = pd.DataFrame(results)\n",
    "df.columns = results[0].keys()"
   ]
  },
  {
   "cell_type": "code",
   "execution_count": 8,
   "metadata": {
    "collapsed": true
   },
   "outputs": [],
   "source": [
    "time_series = []\n",
    "for i in range(len(df)):\n",
    "        date = datetime.strptime(df['date'][i], \"%Y-%m-%d\")\n",
    "        time_series.append(date)"
   ]
  },
  {
   "cell_type": "code",
   "execution_count": 9,
   "metadata": {},
   "outputs": [
    {
     "data": {
      "image/png": "[encoded data removed]",
      "text/plain": [
       "<matplotlib.figure.Figure at 0x10bec5cf8>"
      ]
     },
     "metadata": {},
     "output_type": "display_data"
    }
   ],
   "source": [
    "fig, ax = plt.subplots(1,1,figsize=(10,6))\n",
    "ax.bar(time_series, df['precipitation'], width=5, label='precipitation',\n",
    "       color='blue', alpha=0.8)\n",
    "ax.xaxis_date()\n",
    "plt.xticks(rotation=45)\n",
    "plt.legend(loc='best')\n",
    "plt.xlim(pd.Timestamp('2016-8-28'), pd.Timestamp('2017-8-26'))\n",
    "plt.show()"
   ]
  },
  {
   "cell_type": "code",
   "execution_count": 10,
   "metadata": {},
   "outputs": [
    {
     "data": {
      "text/plain": [
       "count    357.000000\n",
       "mean       0.945294\n",
       "std        1.731066\n",
       "min        0.000000\n",
       "25%        0.050000\n",
       "50%        0.390000\n",
       "75%        1.070000\n",
       "max       14.280000\n",
       "Name: precipitation, dtype: float64"
      ]
     },
     "execution_count": 10,
     "metadata": {},
     "output_type": "execute_result"
    }
   ],
   "source": [
    "df['precipitation'].describe()"
   ]
  },
  {
   "cell_type": "code",
   "execution_count": 10,
   "metadata": {},
   "outputs": [
    {
     "name": "stdout",
     "output_type": "stream",
     "text": [
      "9\n"
     ]
    }
   ],
   "source": [
    "stmt = select([func.count(station.columns.station.distinct())])\n",
    "distinct_station_count = connection.execute(stmt).scalar()\n",
    "print(distinct_station_count)"
   ]
  },
  {
   "cell_type": "code",
   "execution_count": 11,
   "metadata": {},
   "outputs": [
    {
     "name": "stdout",
     "output_type": "stream",
     "text": [
      "SELECT measurement.station, count(measurement.prcp) AS observation_count \n",
      "FROM measurement GROUP BY measurement.station ORDER BY observation_count DESC\n"
     ]
    }
   ],
   "source": [
    "ob_count = func.count(measurement.columns.prcp).label('observation_count')\n",
    "stmt = select([measurement.columns.station, ob_count])\n",
    "stmt = stmt.group_by(measurement.columns.station)\n",
    "rev_stmt = stmt.order_by(desc(ob_count))\n",
    "\n",
    "print(rev_stmt)"
   ]
  },
  {
   "cell_type": "code",
   "execution_count": 12,
   "metadata": {
    "collapsed": true
   },
   "outputs": [],
   "source": [
    "# Execute the statement\n",
    "results = connection.execute(rev_stmt).fetchall()"
   ]
  },
  {
   "cell_type": "code",
   "execution_count": 13,
   "metadata": {},
   "outputs": [
    {
     "name": "stdout",
     "output_type": "stream",
     "text": [
      "('USC00519281', 5544)\n",
      "('USC00519397', 5448)\n",
      "('USC00513117', 5418)\n",
      "('USC00519523', 5338)\n",
      "('USC00516128', 5224)\n",
      "('USC00514830', 4404)\n",
      "('USC00511918', 3958)\n",
      "('USC00517948', 2744)\n",
      "('USC00518838', 1022)\n",
      "----------\n",
      "The most active station is USC00519281, with 5544 of observations.\n"
     ]
    }
   ],
   "source": [
    "# print the results\n",
    "for result in results:\n",
    "    print(result)\n",
    "\n",
    "print(\"----------\")\n",
    "print(f\"The most active station is {results[0][0]}, with {results[0][1]} of observations.\")"
   ]
  },
  {
   "cell_type": "markdown",
   "metadata": {
    "collapsed": true
   },
   "source": [
    "## Design a query to retrieve the last 12 months of temperature observation data (tobs)"
   ]
  },
  {
   "cell_type": "code",
   "execution_count": 14,
   "metadata": {},
   "outputs": [
    {
     "name": "stdout",
     "output_type": "stream",
     "text": [
      "SELECT measurement.tobs \n",
      "FROM measurement \n",
      "WHERE measurement.station = :station_1 AND measurement.date > :date_1\n"
     ]
    }
   ],
   "source": [
    "stmt = select([measurement.columns.tobs])\n",
    "stmt = stmt.where(measurement.columns.station == \"USC00519281\")\n",
    "stmt = stmt.where(measurement.columns.date > '2016-08-31')\n",
    "print(stmt)"
   ]
  },
  {
   "cell_type": "code",
   "execution_count": 15,
   "metadata": {
    "collapsed": true
   },
   "outputs": [],
   "source": [
    "results = connection.execute(stmt).fetchall()\n",
    "df = pd.DataFrame(results)\n",
    "df.columns = results[0].keys()"
   ]
  },
  {
   "cell_type": "code",
   "execution_count": 18,
   "metadata": {},
   "outputs": [
    {
     "data": {
      "image/png": "[encoded data removed]",
      "text/plain": [
       "<matplotlib.figure.Figure at 0x119d58f60>"
      ]
     },
     "metadata": {},
     "output_type": "display_data"
    }
   ],
   "source": [
    "df.plot.hist(bins=12, figsize=(8,6), color='blue')\n",
    "plt.show()"
   ]
  },
  {
   "cell_type": "code",
   "execution_count": 17,
   "metadata": {
    "collapsed": true
   },
   "outputs": [],
   "source": [
    "def calc_temps(start_date, end_date):\n",
    "    tobs_avg = func.avg(measurement.columns.tobs).label('tobs_avg')\n",
    "    stmt = select([tobs_avg])\n",
    "    stmt = stmt.where(measurement.columns.date > start_date)\n",
    "    stmt = stmt.where(measurement.columns.date < end_date)\n",
    "    stmt = stmt.group_by(measurement.columns.date)\n",
    "    results = connection.execute(stmt).fetchall()\n",
    "    df = pd.DataFrame(results)\n",
    "    df.columns = results[0].keys()\n",
    "    mean_tobs = df['tobs_avg'].mean()\n",
    "    max_tobs = df['tobs_avg'].max()\n",
    "    min_tobs = df['tobs_avg'].min()\n",
    "    diff_tobs = max_tobs - min_tobs\n",
    "    return df"
   ]
  },
  {
   "cell_type": "code",
   "execution_count": 18,
   "metadata": {
    "collapsed": true
   },
   "outputs": [],
   "source": [
    "df = calc_temps('2017-01-01', '2018-01-01')"
   ]
  },
  {
   "cell_type": "code",
   "execution_count": 19,
   "metadata": {
    "collapsed": true
   },
   "outputs": [],
   "source": [
    "mean_tobs = df['tobs_avg'].mean()\n",
    "max_tobs = df['tobs_avg'].max()\n",
    "min_tobs = df['tobs_avg'].min()\n",
    "diff_tobs = max_tobs - min_tobs"
   ]
  },
  {
   "cell_type": "code",
   "execution_count": 20,
   "metadata": {},
   "outputs": [
    {
     "data": {
      "image/png": "[encoded data removed]",
      "text/plain": [
       "<matplotlib.figure.Figure at 0x1145a3be0>"
      ]
     },
     "metadata": {},
     "output_type": "display_data"
    }
   ],
   "source": [
    "fig = plt.figure(figsize=(2,6))\n",
    "plt.bar(0, mean_tobs, color='red', width=0.2, yerr = diff_tobs, alpha=0.4)\n",
    "plt.xticks([])\n",
    "plt.ylabel(\"Temp (F)\")\n",
    "plt.xlim(-0.15, 0.15)\n",
    "plt.show()"
   ]
  },
  {
   "cell_type": "code",
   "execution_count": 23,
   "metadata": {
    "collapsed": true
   },
   "outputs": [],
   "source": [
    "def daily_normals(date):\n",
    "    tobs_avg = func.avg(measurement.columns.tobs).label('tobs_avg')\n",
    "    tobs_max = func.max(measurement.columns.tobs).label('tobs_max')\n",
    "    tobs_min = func.min(measurement.columns.tobs).label('tobs_min')\n",
    "    stmt = select([tobs_avg, tobs_max, tobs_min])\n",
    "    stmt = stmt.where(measurement.columns.date.like(f\"%{date}\"))\n",
    "    results = connection.execute(stmt).fetchall()\n",
    "    mean, max, min = results[0]\n",
    "    \n",
    "    return mean, max, min"
   ]
  },
  {
   "cell_type": "code",
   "execution_count": 24,
   "metadata": {
    "collapsed": true
   },
   "outputs": [],
   "source": [
    "date_list = [\"01-01\", \"01-02\", \"01-03\", \"01-04\", \"01-05\", \"01-06\", \"01-07\"]"
   ]
  },
  {
   "cell_type": "code",
   "execution_count": 25,
   "metadata": {
    "collapsed": true
   },
   "outputs": [],
   "source": [
    "mean_list = []\n",
    "max_list = []\n",
    "min_list = []\n",
    "for date in date_list:\n",
    "    mean, max, min = daily_normals(date)\n",
    "    mean_list.append(mean)\n",
    "    max_list.append(max)\n",
    "    min_list.append(min)"
   ]
  },
  {
   "cell_type": "code",
   "execution_count": 26,
   "metadata": {
    "collapsed": true
   },
   "outputs": [],
   "source": [
    "df = pd.DataFrame({\n",
    "    \"date\": date_list,\n",
    "    \"tavg\": mean_list,\n",
    "    \"tmax\": max_list,\n",
    "    \"tmin\": min_list\n",
    "})"
   ]
  },
  {
   "cell_type": "code",
   "execution_count": 27,
   "metadata": {
    "collapsed": true
   },
   "outputs": [],
   "source": [
    "df = df.set_index('date')"
   ]
  },
  {
   "cell_type": "code",
   "execution_count": 23,
   "metadata": {},
   "outputs": [
    {
     "data": {
      "image/png": "[encoded data removed]",
      "text/plain": [
       "<matplotlib.figure.Figure at 0x11497b630>"
      ]
     },
     "metadata": {},
     "output_type": "display_data"
    }
   ],
   "source": [
    "df.plot.area(figsize=(10,6),stacked=False, alpha=0.1, linewidth=4,\n",
    "             color=['red', 'brown','blue'])\n",
    "plt.xticks(rotation=45)\n",
    "plt.legend(fontsize = 22)\n",
    "plt.show()"
   ]
  },
  {
   "cell_type": "code",
   "execution_count": null,
   "metadata": {
    "collapsed": true
   },
   "outputs": [],
   "source": []
  }
 ],
 "metadata": {
  "kernelspec": {
   "display_name": "Python 3",
   "language": "python",
   "name": "python3"
  },
  "language_info": {
   "codemirror_mode": {
    "name": "ipython",
    "version": 3
   },
   "file_extension": ".py",
   "mimetype": "text/x-python",
   "name": "python",
   "nbconvert_exporter": "python",
   "pygments_lexer": "ipython3",
   "version": "3.6.3"
  }
 },
 "nbformat": 4,
 "nbformat_minor": 2
}
