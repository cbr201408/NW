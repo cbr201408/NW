{
 "cells": [
  {
   "cell_type": "code",
   "execution_count": 2,
   "metadata": {},
   "outputs": [
    {
     "name": "stdout",
     "output_type": "stream",
     "text": [
      "\n",
      "Election Results\n",
      "----------------------------\n",
      "Total Votes: 803000\n",
      "----------------------------\n",
      "Vestal: 48.0% (385440)\n",
      "Torres: 44.0% (353320)\n",
      "Seth: 5.0% (40150)\n",
      "Cordin: 3.0% (24090)\n",
      "----------------------------\n",
      "Winner: Vestal\n",
      "----------------------------\n",
      "\n",
      "Election Results\n",
      "----------------------------\n",
      "Total Votes: 3521001\n",
      "----------------------------\n",
      "Khan: 63.0% (2218231)\n",
      "Correy: 20.0% (704200)\n",
      "Li: 14.0% (492940)\n",
      "O'Tooley: 3.0% (105630)\n",
      "----------------------------\n",
      "Winner: Khan\n",
      "----------------------------\n"
     ]
    }
   ],
   "source": [
    "import os\n",
    "import csv\n",
    "from collections import Counter\n",
    "\n",
    "folderName = 'raw_data'\n",
    "fileNames = os.listdir(folderName)\n",
    "\n",
    "for filename in fileNames:\n",
    "\n",
    "    csvpath = os.path.join(folderName, filename)\n",
    "    candidate = []\n",
    "    winner = ''\n",
    "    vote = 0\n",
    "\n",
    "    with open(csvpath, newline='') as csvfile:\n",
    "        csvreader = csv.reader(csvfile, delimiter=',')\n",
    "        \n",
    "        next(csvreader, None)\n",
    "        for row in csvreader:\n",
    "            candidate.append(row[2])\n",
    "\n",
    "    total = len(candidate)\n",
    "    count = Counter(candidate)\n",
    "    for key, value in count.items():\n",
    "        if value > vote:\n",
    "\n",
    "            winner = key\n",
    "            vote = value\n",
    "    print(\"\")\n",
    "    print(\"Election Results\")\n",
    "    print(\"----------------------------\")\n",
    "    print(\"Total Votes: \" + str(total))\n",
    "    print(\"----------------------------\")\n",
    "    for key, value in count.items():\n",
    "        print(key + \": \" + str(\"{0:.1f}\".format(value/total*100)) + \"% (\" + str(value) + \")\")\n",
    "    print(\"----------------------------\")\n",
    "    print(\"Winner: \" + winner)\n",
    "    print(\"----------------------------\")\n",
    "\n",
    "    with open('Report_' + filename.split('.')[0] + '.txt', 'w', newline='') as textfile:\n",
    "        textfile.write(\"Election Results\" + \"\\n\")\n",
    "        textfile.write(\"----------------------------\" + \"\\n\")\n",
    "        textfile.write(\"Total Votes: \" + str(total) + \"\\n\")\n",
    "        textfile.write(\"----------------------------\" + \"\\n\")\n",
    "        for key, value in count.items():\n",
    "            textfile.write(key + \": \" + str(\"{0:.1f}\".format(value/total*100)) + \"% (\" + str(value) + \")\" + \"\\n\")\n",
    "        textfile.write(\"----------------------------\" + \"\\n\")\n",
    "        textfile.write(\"Winner: \" + winner + \"\\n\")\n",
    "        textfile.write(\"----------------------------\")\n",
    "\n"
   ]
  },
  {
   "cell_type": "code",
   "execution_count": null,
   "metadata": {
    "collapsed": true
   },
   "outputs": [],
   "source": []
  }
 ],
 "metadata": {
  "kernelspec": {
   "display_name": "Python 3",
   "language": "python",
   "name": "python3"
  },
  "language_info": {
   "codemirror_mode": {
    "name": "ipython",
    "version": 3
   },
   "file_extension": ".py",
   "mimetype": "text/x-python",
   "name": "python",
   "nbconvert_exporter": "python",
   "pygments_lexer": "ipython3",
   "version": "3.6.3"
  }
 },
 "nbformat": 4,
 "nbformat_minor": 2
}
