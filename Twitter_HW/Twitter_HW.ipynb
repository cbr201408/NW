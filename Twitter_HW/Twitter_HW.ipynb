{
 "cells": [
  {
   "cell_type": "code",
   "execution_count": 4,
   "metadata": {
    "collapsed": true
   },
   "outputs": [],
   "source": [
    "import tweepy\n",
    "import pandas as pd\n",
    "import random\n",
    "import numpy \n",
    "import json\n",
    "import matplotlib.pyplot as plt\n",
    "import time\n",
    "import requests\n",
    "import numpy as np\n",
    "from pprint import pprint\n",
    "analyzer = SentimentIntensityAnalyzer()\n",
    "from config import (consumer_key, \n",
    "                    consumer_secret, \n",
    "                    access_token, \n",
    "                    access_token_secret)\n",
    "from vaderSentiment.vaderSentiment import SentimentIntensityAnalyzer"
   ]
  },
  {
   "cell_type": "code",
   "execution_count": 5,
   "metadata": {
    "collapsed": true
   },
   "outputs": [],
   "source": [
    "# Setup Tweepy API Authentication\n",
    "auth = tweepy.OAuthHandler(consumer_key, consumer_secret)\n",
    "auth.set_access_token(access_token, access_token_secret)\n",
    "api = tweepy.API(auth, parser=tweepy.parsers.JSONParser())"
   ]
  },
  {
   "cell_type": "code",
   "execution_count": 6,
   "metadata": {
    "collapsed": true
   },
   "outputs": [],
   "source": [
    "target_user = ['@BBC', '@CBS', \"@CNN\", \"@FoxNews\", \"@nytimes\"]\n",
    "filename = [\"bbc_sentiment\", \"cbs_sentiment\", \"cnn_sentiment\", \"fox_sentiment\", \"nyt_sentiment\"]"
   ]
  },
  {
   "cell_type": "code",
   "execution_count": 7,
   "metadata": {
    "collapsed": true
   },
   "outputs": [],
   "source": [
    "def NewsOrg_sentiment(target):\n",
    "    counter = 1\n",
    "    sentiments = []\n",
    "    public_tweet = api.user_timeline(target, count = 100 )\n",
    "    \n",
    "    for tweet in public_tweet :\n",
    "        \n",
    "        results = analyzer.polarity_scores(tweet[\"text\"])\n",
    "        compound = results[\"compound\"]\n",
    "        pos = results[\"pos\"]\n",
    "        neu = results[\"neu\"]\n",
    "        neg = results[\"neg\"]\n",
    "        tweets_ago = counter\n",
    "        \n",
    "        sentiments.append({\n",
    "            \"twitter source account\" : target,\n",
    "            \"Tweets ago\" : tweets_ago,\n",
    "            \"Date\" : tweet['created_at'],\n",
    "            \"Compound\" : compound,\n",
    "            'Negative' : neg,\n",
    "            \"Positive\"  : pos,\n",
    "            \"Neutral\"  : neu,\n",
    "            \"tweet_text\" : tweet[\"text\"]\n",
    "            \n",
    "        })\n",
    "        \n",
    "        counter = counter + 1\n",
    "        \n",
    "    data= pd.DataFrame.from_dict(sentiments)\n",
    "    data.sort_index(axis=0 ,ascending=False, inplace = True)  \n",
    "    return  data"
   ]
  },
  {
   "cell_type": "code",
   "execution_count": null,
   "metadata": {
    "collapsed": true
   },
   "outputs": [],
   "source": []
  }
 ],
 "metadata": {
  "kernelspec": {
   "display_name": "Python 3",
   "language": "python",
   "name": "python3"
  },
  "language_info": {
   "codemirror_mode": {
    "name": "ipython",
    "version": 3
   },
   "file_extension": ".py",
   "mimetype": "text/x-python",
   "name": "python",
   "nbconvert_exporter": "python",
   "pygments_lexer": "ipython3",
   "version": "3.6.3"
  }
 },
 "nbformat": 4,
 "nbformat_minor": 2
}
